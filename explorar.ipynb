{
 "cells": [
  {
   "cell_type": "code",
   "execution_count": 1,
   "metadata": {
    "collapsed": true
   },
   "outputs": [],
   "source": [
    "(import pylast)\n",
    "(import pandas)\n",
    "(import matplotlib)\n",
    "(import seaborn)"
   ]
  },
  {
   "cell_type": "code",
   "execution_count": 2,
   "metadata": {
    "collapsed": true
   },
   "outputs": [],
   "source": [
    "%matplotlib notebook"
   ]
  },
  {
   "cell_type": "code",
   "execution_count": 3,
   "metadata": {
    "collapsed": true
   },
   "outputs": [],
   "source": []
  },
  {
   "cell_type": "code",
   "execution_count": 4,
   "metadata": {
    "collapsed": true
   },
   "outputs": [],
   "source": [
    "(def net (pylast.LastFMNetwork :api-key LAST_API_KEY :api-secret LAST_API_SEC))"
   ]
  },
  {
   "cell_type": "code",
   "execution_count": 6,
   "metadata": {},
   "outputs": [
    {
     "data": {
      "text/plain": [
       "pylast.Artist('System of a Down', pylast.LastFMNetwork('3c7951c02735171dc66f979733e2f254', '595291e4183382430cb204381705374d', '', '', ''))"
      ]
     },
     "execution_count": 6,
     "metadata": {},
     "output_type": "execute_result"
    }
   ],
   "source": [
    "(net.get-artist \"System of a Down\")"
   ]
  },
  {
   "cell_type": "code",
   "execution_count": 96,
   "metadata": {
    "scrolled": false
   },
   "outputs": [
    {
     "data": {
      "text/plain": [
       "[TopItem(item=pylast.Track('Dua Lipa', 'New Rules', pylast.LastFMNetwork('3c7951c02735171dc66f979733e2f254', '595291e4183382430cb204381705374d', '', '', '')), weight=1419764), TopItem(item=pylast.Track('Taylor Swift', 'Look What You Made Me Do', pylast.LastFMNetwork('3c7951c02735171dc66f979733e2f254', '595291e4183382430cb204381705374d', '', '', '')), weight=1995951), TopItem(item=pylast.Track('Post Malone', 'Rockstar', pylast.LastFMNetwork('3c7951c02735171dc66f979733e2f254', '595291e4183382430cb204381705374d', '', '', '')), weight=326771), TopItem(item=pylast.Track('Kendrick Lamar', 'HUMBLE.', pylast.LastFMNetwork('3c7951c02735171dc66f979733e2f254', '595291e4183382430cb204381705374d', '', '', '')), weight=2105950), TopItem(item=pylast.Track('Sam Smith', 'Too Good at Goodbyes', pylast.LastFMNetwork('3c7951c02735171dc66f979733e2f254', '595291e4183382430cb204381705374d', '', '', '')), weight=339845), TopItem(item=pylast.Track('Portugal. The Man', 'Feel It Still', pylast.LastFMNetwork('3c7951c02735171dc66f979733e2f254', '595291e4183382430cb204381705374d', '', '', '')), weight=776659), TopItem(item=pylast.Track('Demi Lovato', 'Sorry Not Sorry', pylast.LastFMNetwork('3c7951c02735171dc66f979733e2f254', '595291e4183382430cb204381705374d', '', '', '')), weight=1151384), TopItem(item=pylast.Track('Ed Sheeran', 'Shape of You', pylast.LastFMNetwork('3c7951c02735171dc66f979733e2f254', '595291e4183382430cb204381705374d', '', '', '')), weight=3137606), TopItem(item=pylast.Track('Camila Cabello', 'Havana', pylast.LastFMNetwork('3c7951c02735171dc66f979733e2f254', '595291e4183382430cb204381705374d', '', '', '')), weight=997999), TopItem(item=pylast.Track('Imagine Dragons', 'Thunder', pylast.LastFMNetwork('3c7951c02735171dc66f979733e2f254', '595291e4183382430cb204381705374d', '', '', '')), weight=1088130), TopItem(item=pylast.Track('J Balvin', 'Mi Gente', pylast.LastFMNetwork('3c7951c02735171dc66f979733e2f254', '595291e4183382430cb204381705374d', '', '', '')), weight=482760), TopItem(item=pylast.Track('Foo Fighters', 'The Sky Is A Neighborhood', pylast.LastFMNetwork('3c7951c02735171dc66f979733e2f254', '595291e4183382430cb204381705374d', '', '', '')), weight=193585), TopItem(item=pylast.Track('The Killers', 'Mr. Brightside', pylast.LastFMNetwork('3c7951c02735171dc66f979733e2f254', '595291e4183382430cb204381705374d', '', '', '')), weight=16610865), TopItem(item=pylast.Track('Maroon 5', 'What Lovers Do (feat. SZA)', pylast.LastFMNetwork('3c7951c02735171dc66f979733e2f254', '595291e4183382430cb204381705374d', '', '', '')), weight=226647), TopItem(item=pylast.Track('Calvin Harris', 'Feels', pylast.LastFMNetwork('3c7951c02735171dc66f979733e2f254', '595291e4183382430cb204381705374d', '', '', '')), weight=759882), TopItem(item=pylast.Track('Zayn', 'Dusk Till Dawn - Radio Edit', pylast.LastFMNetwork('3c7951c02735171dc66f979733e2f254', '595291e4183382430cb204381705374d', '', '', '')), weight=290077), TopItem(item=pylast.Track('Foo Fighters', 'Run', pylast.LastFMNetwork('3c7951c02735171dc66f979733e2f254', '595291e4183382430cb204381705374d', '', '', '')), weight=313683), TopItem(item=pylast.Track('Cardi B', 'Bodak Yellow', pylast.LastFMNetwork('3c7951c02735171dc66f979733e2f254', '595291e4183382430cb204381705374d', '', '', '')), weight=351827), TopItem(item=pylast.Track('P!nk', 'What About Us', pylast.LastFMNetwork('3c7951c02735171dc66f979733e2f254', '595291e4183382430cb204381705374d', '', '', '')), weight=404337), TopItem(item=pylast.Track('Lorde', 'Homemade Dynamite (Feat. Khalid, Post Malone & SZA) - REMIX', pylast.LastFMNetwork('3c7951c02735171dc66f979733e2f254', '595291e4183382430cb204381705374d', '', '', '')), weight=148202), TopItem(item=pylast.Track('Logic', '1-800-273-8255', pylast.LastFMNetwork('3c7951c02735171dc66f979733e2f254', '595291e4183382430cb204381705374d', '', '', '')), weight=455460), TopItem(item=pylast.Track('Kendrick Lamar', 'DNA.', pylast.LastFMNetwork('3c7951c02735171dc66f979733e2f254', '595291e4183382430cb204381705374d', '', '', '')), weight=1498151), TopItem(item=pylast.Track('Marshmello', 'Silence', pylast.LastFMNetwork('3c7951c02735171dc66f979733e2f254', '595291e4183382430cb204381705374d', '', '', '')), weight=240139), TopItem(item=pylast.Track('Taylor Swift', '...Ready For It?', pylast.LastFMNetwork('3c7951c02735171dc66f979733e2f254', '595291e4183382430cb204381705374d', '', '', '')), weight=457368), TopItem(item=pylast.Track('Foo Fighters', 'T-Shirt', pylast.LastFMNetwork('3c7951c02735171dc66f979733e2f254', '595291e4183382430cb204381705374d', '', '', '')), weight=84718), TopItem(item=pylast.Track('Nirvana', 'Smells Like Teen Spirit', pylast.LastFMNetwork('3c7951c02735171dc66f979733e2f254', '595291e4183382430cb204381705374d', '', '', '')), weight=14938186), TopItem(item=pylast.Track('Charlie Puth', 'Attention', pylast.LastFMNetwork('3c7951c02735171dc66f979733e2f254', '595291e4183382430cb204381705374d', '', '', '')), weight=941959), TopItem(item=pylast.Track('Imagine Dragons', 'Believer', pylast.LastFMNetwork('3c7951c02735171dc66f979733e2f254', '595291e4183382430cb204381705374d', '', '', '')), weight=1310052), TopItem(item=pylast.Track('Lorde', 'Green Light', pylast.LastFMNetwork('3c7951c02735171dc66f979733e2f254', '595291e4183382430cb204381705374d', '', '', '')), weight=2046249), TopItem(item=pylast.Track('The White Stripes', 'Seven Nation Army', pylast.LastFMNetwork('3c7951c02735171dc66f979733e2f254', '595291e4183382430cb204381705374d', '', '', '')), weight=10877054), TopItem(item=pylast.Track('Arctic Monkeys', 'Do I Wanna Know?', pylast.LastFMNetwork('3c7951c02735171dc66f979733e2f254', '595291e4183382430cb204381705374d', '', '', '')), weight=10762549), TopItem(item=pylast.Track('Macklemore', 'Glorious (feat. Skylar Grey)', pylast.LastFMNetwork('3c7951c02735171dc66f979733e2f254', '595291e4183382430cb204381705374d', '', '', '')), weight=290639), TopItem(item=pylast.Track('Childish Gambino', 'Redbone', pylast.LastFMNetwork('3c7951c02735171dc66f979733e2f254', '595291e4183382430cb204381705374d', '', '', '')), weight=1294250), TopItem(item=pylast.Track('Justin Bieber', 'fRIeNdS (wITh bLoODpOp®)', pylast.LastFMNetwork('3c7951c02735171dc66f979733e2f254', '595291e4183382430cb204381705374d', '', '', '')), weight=332291), TopItem(item=pylast.Track('LIL UZI VERT', 'XO TOUR Llif3', pylast.LastFMNetwork('3c7951c02735171dc66f979733e2f254', '595291e4183382430cb204381705374d', '', '', '')), weight=888053), TopItem(item=pylast.Track('French Montana', 'unforgettable', pylast.LastFMNetwork('3c7951c02735171dc66f979733e2f254', '595291e4183382430cb204381705374d', '', '', '')), weight=667810), TopItem(item=pylast.Track('Miley Cyrus', 'Malibu', pylast.LastFMNetwork('3c7951c02735171dc66f979733e2f254', '595291e4183382430cb204381705374d', '', '', '')), weight=1152107), TopItem(item=pylast.Track('The Killers', 'The Man', pylast.LastFMNetwork('3c7951c02735171dc66f979733e2f254', '595291e4183382430cb204381705374d', '', '', '')), weight=343689), TopItem(item=pylast.Track('Foo Fighters', 'Make It Right', pylast.LastFMNetwork('3c7951c02735171dc66f979733e2f254', '595291e4183382430cb204381705374d', '', '', '')), weight=79971), TopItem(item=pylast.Track('Linkin Park', 'In the End', pylast.LastFMNetwork('3c7951c02735171dc66f979733e2f254', '595291e4183382430cb204381705374d', '', '', '')), weight=11358624), TopItem(item=pylast.Track('The National', 'Day I Die', pylast.LastFMNetwork('3c7951c02735171dc66f979733e2f254', '595291e4183382430cb204381705374d', '', '', '')), weight=221328), TopItem(item=pylast.Track('The National', 'The System Only Dreams in Total Darkness', pylast.LastFMNetwork('3c7951c02735171dc66f979733e2f254', '595291e4183382430cb204381705374d', '', '', '')), weight=396889), TopItem(item=pylast.Track('Foo Fighters', 'La Dee Da', pylast.LastFMNetwork('3c7951c02735171dc66f979733e2f254', '595291e4183382430cb204381705374d', '', '', '')), weight=78569), TopItem(item=pylast.Track('Foo Fighters', 'Arrows', pylast.LastFMNetwork('3c7951c02735171dc66f979733e2f254', '595291e4183382430cb204381705374d', '', '', '')), weight=75090), TopItem(item=pylast.Track('Tame Impala', 'The Less I Know the Better', pylast.LastFMNetwork('3c7951c02735171dc66f979733e2f254', '595291e4183382430cb204381705374d', '', '', '')), weight=2847342), TopItem(item=pylast.Track('Gorillaz', 'Feel Good Inc.', pylast.LastFMNetwork('3c7951c02735171dc66f979733e2f254', '595291e4183382430cb204381705374d', '', '', '')), weight=11053982), TopItem(item=pylast.Track('Axwell /\\\\ Ingrosso', 'More Than You Know', pylast.LastFMNetwork('3c7951c02735171dc66f979733e2f254', '595291e4183382430cb204381705374d', '', '', '')), weight=439269), TopItem(item=pylast.Track('Foo Fighters', 'Everlong', pylast.LastFMNetwork('3c7951c02735171dc66f979733e2f254', '595291e4183382430cb204381705374d', '', '', '')), weight=9885797), TopItem(item=pylast.Track('Red Hot Chili Peppers', 'Under the Bridge', pylast.LastFMNetwork('3c7951c02735171dc66f979733e2f254', '595291e4183382430cb204381705374d', '', '', '')), weight=9919393), TopItem(item=pylast.Track('System of a Down', 'Chop Suey!', pylast.LastFMNetwork('3c7951c02735171dc66f979733e2f254', '595291e4183382430cb204381705374d', '', '', '')), weight=11888225)]"
      ]
     },
     "execution_count": 96,
     "metadata": {},
     "output_type": "execute_result"
    }
   ],
   "source": [
    "(net.get-top-tracks)"
   ]
  },
  {
   "cell_type": "code",
   "execution_count": 5,
   "metadata": {
    "collapsed": true
   },
   "outputs": [],
   "source": [
    "(setv tracks (.get-top-tracks (net.get-artist \"The XX\")))"
   ]
  },
  {
   "cell_type": "code",
   "execution_count": 22,
   "metadata": {},
   "outputs": [
    {
     "data": {
      "text/plain": [
       "127000"
      ]
     },
     "execution_count": 22,
     "metadata": {},
     "output_type": "execute_result"
    }
   ],
   "source": [
    "(.get_duration (first (first tracks)))"
   ]
  },
  {
   "cell_type": "code",
   "execution_count": 6,
   "metadata": {
    "collapsed": true
   },
   "outputs": [],
   "source": [
    "(setv durs (list (map (fn [t] (.get_duration (first t))) tracks)))"
   ]
  },
  {
   "cell_type": "code",
   "execution_count": 7,
   "metadata": {
    "collapsed": true
   },
   "outputs": [],
   "source": [
    "(setv names (list (map (fn [t] (.get_title (first t))) tracks)))"
   ]
  },
  {
   "cell_type": "code",
   "execution_count": 8,
   "metadata": {
    "collapsed": true
   },
   "outputs": [],
   "source": [
    "(setv p_durs (pandas.DataFrame {\"names\" names \"duration\" durs}))"
   ]
  },
  {
   "cell_type": "code",
   "execution_count": 9,
   "metadata": {
    "collapsed": true
   },
   "outputs": [],
   "source": [
    "(setv tracks-last (pandas.DataFrame {\"names\" names \"duration\" (/ (get p_durs \"duration\") 60000)}))"
   ]
  },
  {
   "cell_type": "code",
   "execution_count": 64,
   "metadata": {
    "collapsed": true
   },
   "outputs": [],
   "source": [
    "(-> p_durs .plot matplotlib.pyplot.show)"
   ]
  },
  {
   "cell_type": "code",
   "execution_count": 94,
   "metadata": {
    "collapsed": true
   },
   "outputs": [],
   "source": [
    "(seaborn.set :style \"whitegrid\")\n",
    "(seaborn.set_context \"notebook\" :font_scale 1.5 :rc {\"lines.linewidth\" 2.5})\n"
   ]
  },
  {
   "cell_type": "code",
   "execution_count": 10,
   "metadata": {
    "collapsed": true
   },
   "outputs": [],
   "source": [
    "(matplotlib.pyplot.show (seaborn.barplot \n",
    "                         :data tracks-last \n",
    "                         :x \"duration\" \n",
    "                         :y \"names\" \n",
    "                         :palette \"BuPu\"\n",
    "                         ))"
   ]
  },
  {
   "cell_type": "code",
   "execution_count": 11,
   "metadata": {
    "collapsed": true
   },
   "outputs": [],
   "source": [
    "(setv meintracks (.get-recent-tracks (net.get-user \"tian2992\")))"
   ]
  },
  {
   "cell_type": "code",
   "execution_count": 12,
   "metadata": {},
   "outputs": [
    {
     "data": {
      "text/plain": [
       "[PlayedTrack(track=pylast.Track('bebo', 'Lágrimas negras', pylast.LastFMNetwork('3c7951c02735171dc66f979733e2f254', '595291e4183382430cb204381705374d', '', '', '')), album='Lágrimas negras', playback_date='29 Oct 2017, 17:45', timestamp='1509299123'), PlayedTrack(track=pylast.Track('bebo', 'Inolvidable', pylast.LastFMNetwork('3c7951c02735171dc66f979733e2f254', '595291e4183382430cb204381705374d', '', '', '')), album='Lágrimas negras', playback_date='29 Oct 2017, 17:41', timestamp='1509298890'), PlayedTrack(track=pylast.Track('Oh Wonder', 'Without You - BBC Session', pylast.LastFMNetwork('3c7951c02735171dc66f979733e2f254', '595291e4183382430cb204381705374d', '', '', '')), album='Without You (BBC Session)', playback_date='29 Oct 2017, 17:37', timestamp='1509298621'), PlayedTrack(track=pylast.Track('Moderat', 'A New Error', pylast.LastFMNetwork('3c7951c02735171dc66f979733e2f254', '595291e4183382430cb204381705374d', '', '', '')), album='Moderat (Deluxe Version)', playback_date='29 Oct 2017, 05:48', timestamp='1509256091'), PlayedTrack(track=pylast.Track('Phoenix', 'If I Ever Feel Better', pylast.LastFMNetwork('3c7951c02735171dc66f979733e2f254', '595291e4183382430cb204381705374d', '', '', '')), album='United', playback_date='29 Oct 2017, 05:43', timestamp='1509255824'), PlayedTrack(track=pylast.Track('The Whitest Boy Alive', 'Burning', pylast.LastFMNetwork('3c7951c02735171dc66f979733e2f254', '595291e4183382430cb204381705374d', '', '', '')), album='Dreams', playback_date='29 Oct 2017, 05:40', timestamp='1509255634'), PlayedTrack(track=pylast.Track('Tame Impala', 'The Less I Know the Better', pylast.LastFMNetwork('3c7951c02735171dc66f979733e2f254', '595291e4183382430cb204381705374d', '', '', '')), album='Currents', playback_date='29 Oct 2017, 05:34', timestamp='1509255272'), PlayedTrack(track=pylast.Track('In Love With a Ghost', \"We've Never Met but Can We Have a Cup of Coffee or Something\", pylast.LastFMNetwork('3c7951c02735171dc66f979733e2f254', '595291e4183382430cb204381705374d', '', '', '')), album=\"Let's Go\", playback_date='29 Oct 2017, 05:30', timestamp='1509255027'), PlayedTrack(track=pylast.Track('bebo', 'Inolvidable', pylast.LastFMNetwork('3c7951c02735171dc66f979733e2f254', '595291e4183382430cb204381705374d', '', '', '')), album='Lágrimas negras', playback_date='29 Oct 2017, 05:27', timestamp='1509254827')]"
      ]
     },
     "execution_count": 12,
     "metadata": {},
     "output_type": "execute_result"
    }
   ],
   "source": [
    "meintracks"
   ]
  },
  {
   "cell_type": "code",
   "execution_count": null,
   "metadata": {
    "collapsed": true
   },
   "outputs": [],
   "source": []
  }
 ],
 "metadata": {
  "kernelspec": {
   "display_name": "Calysto Hy",
   "language": "hy",
   "name": "calysto_hy"
  },
  "language_info": {
   "codemirror_mode": {
    "name": "scheme"
   },
   "mimetype": "text/x-hylang",
   "name": "hy",
   "pygments_lexer": "lisp"
  }
 },
 "nbformat": 4,
 "nbformat_minor": 2
}
